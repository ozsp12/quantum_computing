{
 "cells": [
  {
   "cell_type": "markdown",
   "id": "065b4110",
   "metadata": {},
   "source": [
    "# **Quantum Circuit Simulation using Qiskit**\n",
    "\n",
    "Quantum computing leverages the principles of quantum mechanics, such as **superposition** and **entanglement**, to perform computations more efficiently than classical computers in certain domains. In this document, we present the implementation of a simple quantum circuit using Qiskit, a quantum computing framework developed by IBM. The objective of this experiment is to:\n",
    "1. Construct a **single-qubit quantum circuit**.\n",
    "2. Apply a **Hadamard gate** to create a **superposition state**.\n",
    "3. Perform a **measurement** to collapse the quantum state into a classical bit.\n",
    "4. Execute the quantum circuit using a **simulator**.\n",
    "5. **Analyze** the results and visualize the measurement distribution."
   ]
  },
  {
   "cell_type": "markdown",
   "id": "4e89f84c",
   "metadata": {},
   "source": [
    "# Importing Required Libraries\n",
    "\n",
    "The first step involves importing the necessary libraries from Qiskit and Matplotlib for visualization.\n",
    "\n",
    "- **`QuantumCircuit`**: Used to define the quantum circuit.\n",
    "- **`transpile`**: Converts the circuit into an optimized form compatible with the backend simulator.\n",
    "- **`AerSimulator`**: A Qiskit Aer component that allows quantum circuit simulation.\n",
    "- **`plot_histogram`**: A visualization tool to display the measurement results.\n",
    "- **`matplotlib.pyplot`**: Standard Python library for plotting graphs and figures."
   ]
  },
  {
   "cell_type": "code",
   "execution_count": 1,
   "id": "676f39fd",
   "metadata": {
    "ExecuteTime": {
     "end_time": "2025-03-15T17:25:39.904702Z",
     "start_time": "2025-03-15T17:25:38.723291Z"
    }
   },
   "outputs": [],
   "source": [
    "# Import necessary libraries\n",
    "from qiskit import QuantumCircuit, transpile\n",
    "from qiskit_aer import AerSimulator\n",
    "from qiskit.visualization import plot_histogram\n",
    "import matplotlib.pyplot as plt\n",
    "# Ensure inline plotting works\n",
    "%matplotlib inline  "
   ]
  },
  {
   "cell_type": "markdown",
   "id": "ef353ee6",
   "metadata": {},
   "source": [
    "# Creating the Quantum Circuit\n",
    "\n",
    "The circuit consists of a **single qubit** and a **single classical bit**. The Hadamard gate \\( H \\) is applied to the qubit to create a superposition state. The Hadamard gate $H$ transforms the basis states as follows:\n",
    "  $$\n",
    "  H |0\\rangle = \\frac{1}{\\sqrt{2}}(|0\\rangle + |1\\rangle)\n",
    "  $$\n",
    "  $$\n",
    "  H |1\\rangle = \\frac{1}{\\sqrt{2}}(|0\\rangle - |1\\rangle)\n",
    "  $$\n",
    "  This means that after applying $H$ to $|0\\rangle$, the qubit is in an **equal superposition** of $|0\\rangle$ and $|1\\rangle$.\n",
    "- The measurement operation collapses the qubit's state to either $|0\\rangle$ or $|1\\rangle$ with equal probability."
   ]
  },
  {
   "cell_type": "code",
   "execution_count": 2,
   "id": "9d40e8d9",
   "metadata": {
    "ExecuteTime": {
     "end_time": "2025-03-15T17:25:39.919616Z",
     "start_time": "2025-03-15T17:25:39.905710Z"
    }
   },
   "outputs": [
    {
     "data": {
      "text/plain": [
       "<qiskit.circuit.instructionset.InstructionSet at 0x2af2d1798b0>"
      ]
     },
     "execution_count": 2,
     "metadata": {},
     "output_type": "execute_result"
    }
   ],
   "source": [
    "# Create a Quantum Circuit with 1 qubit and 1 classical bit\n",
    "qc = QuantumCircuit(1, 1)\n",
    "# Apply a Hadamard gate to create a superposition state\n",
    "qc.h(0)\n",
    "# Measure the qubit and store the result in the classical bit\n",
    "qc.measure(0, 0)"
   ]
  },
  {
   "cell_type": "markdown",
   "id": "74858c8c",
   "metadata": {},
   "source": [
    "# Visualizing the Quantum Circuit"
   ]
  },
  {
   "cell_type": "code",
   "execution_count": 3,
   "id": "74771ea2",
   "metadata": {
    "ExecuteTime": {
     "end_time": "2025-03-15T17:25:39.935281Z",
     "start_time": "2025-03-15T17:25:39.921600Z"
    }
   },
   "outputs": [
    {
     "name": "stdout",
     "output_type": "stream",
     "text": [
      "     ┌───┐┌─┐\n",
      "  q: ┤ H ├┤M├\n",
      "     └───┘└╥┘\n",
      "c: 1/══════╩═\n",
      "           0 \n"
     ]
    }
   ],
   "source": [
    "#Print circuit \n",
    "print(qc)"
   ]
  },
  {
   "cell_type": "code",
   "execution_count": 4,
   "id": "0b7cc887",
   "metadata": {
    "ExecuteTime": {
     "end_time": "2025-03-15T17:25:40.184282Z",
     "start_time": "2025-03-15T17:25:39.937207Z"
    }
   },
   "outputs": [
    {
     "name": "stdout",
     "output_type": "stream",
     "text": [
      "Quantum Circuit:\n"
     ]
    },
    {
     "data": {
      "image/png": "[encoded data removed]",
      "text/plain": [
       "<Figure size 269.064x200.667 with 1 Axes>"
      ]
     },
     "metadata": {},
     "output_type": "display_data"
    }
   ],
   "source": [
    "# Display the quantum circuit using the best available method\n",
    "print(\"Quantum Circuit:\")\n",
    "# Ensures proper rendering in Jupyter Notebook\n",
    "display(qc.draw('mpl'))  \n",
    "plt.show()  # Force the display of the circuit"
   ]
  },
  {
   "cell_type": "markdown",
   "id": "b5ef50fc",
   "metadata": {},
   "source": [
    "# Simulating the Quantum Circuit\n",
    "\n",
    "- **`AerSimulator()`**: Provides a high-performance quantum circuit simulation.\n",
    "- **`transpile(qc, simulator)`**: Converts the circuit into a form optimized for execution on the simulator.\n",
    "- **`simulator.run(compiled_circuit).result()`**: Runs the circuit and retrieves the **measurement outcomes**."
   ]
  },
  {
   "cell_type": "code",
   "execution_count": 5,
   "id": "4738805e",
   "metadata": {
    "ExecuteTime": {
     "end_time": "2025-03-15T17:25:40.293172Z",
     "start_time": "2025-03-15T17:25:40.185290Z"
    }
   },
   "outputs": [],
   "source": [
    "# Initialize the AerSimulator\n",
    "simulator = AerSimulator()\n",
    "# Transpile the circuit for compatibility with the simulator\n",
    "compiled_circuit = transpile(qc, simulator)\n",
    "# Run the quantum circuit on the simulator\n",
    "result = simulator.run(compiled_circuit).result()"
   ]
  },
  {
   "cell_type": "markdown",
   "id": "853793cc",
   "metadata": {},
   "source": [
    "# Extracting and Analyzing Measurement Results"
   ]
  },
  {
   "cell_type": "code",
   "execution_count": 6,
   "id": "8698d8ba",
   "metadata": {
    "ExecuteTime": {
     "end_time": "2025-03-15T17:25:40.309160Z",
     "start_time": "2025-03-15T17:25:40.294134Z"
    }
   },
   "outputs": [
    {
     "name": "stdout",
     "output_type": "stream",
     "text": [
      "Measurement Results: {'0': 490, '1': 534}\n"
     ]
    }
   ],
   "source": [
    "# Get the measurement results\n",
    "counts = result.get_counts()\n",
    "# Print the measurement results\n",
    "print(\"Measurement Results:\", counts)"
   ]
  },
  {
   "cell_type": "markdown",
   "id": "35ecbfa1",
   "metadata": {},
   "source": [
    "# Visualizing the Measurement Results\n",
    "\n",
    "- A **bar chart** with two bars of approximately equal height, representing the probability of measuring $|0\\rangle$ and $|1\\rangle$."
   ]
  },
  {
   "cell_type": "code",
   "execution_count": 7,
   "id": "0ac40772",
   "metadata": {
    "ExecuteTime": {
     "end_time": "2025-03-15T17:25:40.401928Z",
     "start_time": "2025-03-15T17:25:40.311163Z"
    }
   },
   "outputs": [
    {
     "data": {
      "image/png": "[encoded data removed]",
      "text/plain": [
       "<Figure size 600x400 with 1 Axes>"
      ]
     },
     "metadata": {},
     "output_type": "display_data"
    }
   ],
   "source": [
    "# Visualize the results as a histogram\n",
    "fig, ax = plt.subplots(figsize=(6, 4))\n",
    "plot_histogram(counts, ax=ax)\n",
    "plt.show()"
   ]
  },
  {
   "cell_type": "markdown",
   "id": "08c9aca7",
   "metadata": {},
   "source": [
    "# Applications\n",
    "\n",
    "Quantum circuits such as the one demonstrated in this document have a wide range of applications in various fields, including:\n",
    "\n",
    "1. **Quantum Cryptography**: Secure communication methods, such as quantum key distribution (QKD), leverage quantum circuits for enhanced security.\n",
    "2. **Quantum Machine Learning**: Quantum algorithms can improve machine learning techniques by providing exponential speedups in certain tasks.\n",
    "3. **Optimization Problems**: Quantum algorithms like Grover's search help solve combinatorial optimization problems more efficiently than classical methods.\n",
    "4. **Quantum Chemistry and Material Science**: Simulating molecular structures and reactions at a quantum level is significantly enhanced by quantum circuits.\n",
    "5. **Finance and Risk Analysis**: Quantum computing offers improvements in Monte Carlo simulations, portfolio optimization, and risk analysis.\n",
    "6. **Drug Discovery and Healthcare**: Quantum simulations assist in understanding protein folding, leading to advancements in drug discovery.\n",
    "\n",
    "These applications demonstrate the transformative potential of quantum computing in solving problems beyond classical computational capabilities.\n"
   ]
  },
  {
   "cell_type": "markdown",
   "id": "abae1c6b",
   "metadata": {},
   "source": [
    "# Conclusion\n",
    "\n",
    "This experiment demonstrates fundamental principles of **quantum computing**, including:\n",
    "1. **Superposition**: The Hadamard gate creates an equal probability distribution over basis states.\n",
    "2. **Quantum Measurement**: Collapsing a superposition state into a classical outcome.\n",
    "3. **Simulation**: Using Qiskit Aer to mimic quantum hardware behavior.\n",
    "\n",
    "**Key Takeaways**  \n",
    "- The **Hadamard transformation** is fundamental to quantum algorithms such as **Grover’s search** and **Quantum Fourier Transform (QFT)**.\n",
    "- Measurement results **align with quantum mechanical probabilities**, as expected from the **Born rule**."
   ]
  },
  {
   "cell_type": "markdown",
   "id": "e7e4baeb",
   "metadata": {},
   "source": [
    "# References\n",
    "1. Nielsen, M. A., & Chuang, I. L. (2010). *Quantum Computation and Quantum Information*. Cambridge University Press.\n",
    "2. IBM Qiskit Documentation. Available at: [https://qiskit.org/documentation/](https://qiskit.org/documentation/)\n",
    "3. Preskill, J. (2018). *Quantum Computing in the NISQ era and beyond*. *Quantum*, **2**, 79. DOI: [10.22331/q-2018-08-06-79](https://doi.org/10.22331/q-2018-08-06-79)."
   ]
  }
 ],
 "metadata": {
  "hide_input": false,
  "kernelspec": {
   "display_name": "Python 3 (ipykernel)",
   "language": "python",
   "name": "python3"
  },
  "language_info": {
   "codemirror_mode": {
    "name": "ipython",
    "version": 3
   },
   "file_extension": ".py",
   "mimetype": "text/x-python",
   "name": "python",
   "nbconvert_exporter": "python",
   "pygments_lexer": "ipython3",
   "version": "3.9.13"
  },
  "toc": {
   "base_numbering": 1,
   "nav_menu": {},
   "number_sections": true,
   "sideBar": true,
   "skip_h1_title": false,
   "title_cell": "Table of Contents",
   "title_sidebar": "Contents",
   "toc_cell": false,
   "toc_position": {},
   "toc_section_display": true,
   "toc_window_display": false
  },
  "varInspector": {
   "cols": {
    "lenName": 16,
    "lenType": 16,
    "lenVar": 40
   },
   "kernels_config": {
    "python": {
     "delete_cmd_postfix": "",
     "delete_cmd_prefix": "del ",
     "library": "var_list.py",
     "varRefreshCmd": "print(var_dic_list())"
    },
    "r": {
     "delete_cmd_postfix": ") ",
     "delete_cmd_prefix": "rm(",
     "library": "var_list.r",
     "varRefreshCmd": "cat(var_dic_list()) "
    }
   },
   "types_to_exclude": [
    "module",
    "function",
    "builtin_function_or_method",
    "instance",
    "_Feature"
   ],
   "window_display": false
  }
 },
 "nbformat": 4,
 "nbformat_minor": 5
}
