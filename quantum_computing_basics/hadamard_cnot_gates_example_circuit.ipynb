{
 "cells": [
  {
   "cell_type": "markdown",
   "id": "d2e353e0",
   "metadata": {},
   "source": [
    "# Hadamard and CNOT gates"
   ]
  },
  {
   "cell_type": "code",
   "execution_count": 14,
   "id": "6670eea8",
   "metadata": {
    "ExecuteTime": {
     "end_time": "2025-03-15T17:24:53.586679Z",
     "start_time": "2025-03-15T17:24:53.479070Z"
    }
   },
   "outputs": [],
   "source": [
    "import logging\n",
    "from qiskit import QuantumCircuit, transpile, assemble\n",
    "from qiskit_aer import AerSimulator\n",
    "\n",
    "def example_hadamard():\n",
    "    # Set logging level to WARNING to suppress info messages\n",
    "    logging.getLogger('qiskit').setLevel(logging.WARNING)\n",
    "    # Create a Quantum Circuit with 2 qubits\n",
    "    qc = QuantumCircuit(2)\n",
    "    # Apply a Hadamard gate to the first qubit\n",
    "    qc.h(0)\n",
    "    # Apply a CNOT gate with the first qubit as control and the second as target\n",
    "    qc.cx(0, 1)\n",
    "    # Measure the qubits\n",
    "    qc.measure_all()\n",
    "    # Use the AerSimulator for execution\n",
    "    simulator = AerSimulator()\n",
    "    # Transpile the circuit for the simulator\n",
    "    compiled_circuit = transpile(qc, simulator)\n",
    "    # Run the compiled circuit on the simulator\n",
    "    sim_result = simulator.run(compiled_circuit, shots=1000).result()\n",
    "    # Get the measurement counts\n",
    "    counts = sim_result.get_counts()\n",
    "    return counts, qc\n",
    "\n",
    "counts, qc = example_hadamard()"
   ]
  },
  {
   "cell_type": "code",
   "execution_count": 15,
   "id": "27bb6de0",
   "metadata": {
    "ExecuteTime": {
     "end_time": "2025-03-15T17:24:53.602705Z",
     "start_time": "2025-03-15T17:24:53.587679Z"
    }
   },
   "outputs": [
    {
     "name": "stdout",
     "output_type": "stream",
     "text": [
      "        ┌───┐      ░ ┌─┐   \n",
      "   q_0: ┤ H ├──■───░─┤M├───\n",
      "        └───┘┌─┴─┐ ░ └╥┘┌─┐\n",
      "   q_1: ─────┤ X ├─░──╫─┤M├\n",
      "             └───┘ ░  ║ └╥┘\n",
      "meas: 2/══════════════╩══╩═\n",
      "                      0  1 \n",
      "        ┌───┐      ░ ┌─┐   \n",
      "   q_0: ┤ H ├──■───░─┤M├───\n",
      "        └───┘┌─┴─┐ ░ └╥┘┌─┐\n",
      "   q_1: ─────┤ X ├─░──╫─┤M├\n",
      "             └───┘ ░  ║ └╥┘\n",
      "meas: 2/══════════════╩══╩═\n",
      "                      0  1 \n"
     ]
    }
   ],
   "source": [
    "print(qc)"
   ]
  },
  {
   "cell_type": "code",
   "execution_count": 16,
   "id": "17b3ca29",
   "metadata": {
    "ExecuteTime": {
     "end_time": "2025-03-15T17:24:53.618866Z",
     "start_time": "2025-03-15T17:24:53.604706Z"
    }
   },
   "outputs": [
    {
     "data": {
      "text/plain": [
       "{'00': 478, '11': 522}"
      ]
     },
     "execution_count": 16,
     "metadata": {},
     "output_type": "execute_result"
    },
    {
     "data": {
      "text/plain": [
       "{'00': 478, '11': 522}"
      ]
     },
     "execution_count": 16,
     "metadata": {},
     "output_type": "execute_result"
    }
   ],
   "source": [
    "counts"
   ]
  },
  {
   "cell_type": "markdown",
   "id": "567a4c89",
   "metadata": {},
   "source": [
    "# Detailed Explanation of the Code (Step by Step)\n",
    "\n",
    "This Python function, `example_hadamard()`, uses the Qiskit framework to create, simulate, and measure a **quantum circuit** with **two qubits**. Let’s break it down in detail.\n",
    "\n",
    "---\n",
    "\n",
    "## Step 1: Suppressing Logging Messages\n",
    "\n",
    "- This sets the logging level for Qiskit to `WARNING`, meaning it suppresses lower-priority messages (`INFO`, `DEBUG`) and only displays important warnings/errors.\n",
    "- This helps keep the output cleaner.\n",
    "\n",
    "---"
   ]
  },
  {
   "cell_type": "code",
   "execution_count": 17,
   "id": "27550d7c",
   "metadata": {
    "ExecuteTime": {
     "end_time": "2025-03-15T17:24:53.634456Z",
     "start_time": "2025-03-15T17:24:53.620219Z"
    }
   },
   "outputs": [],
   "source": [
    "logging.getLogger('qiskit').setLevel(logging.WARNING)\n"
   ]
  },
  {
   "cell_type": "markdown",
   "id": "519487fd",
   "metadata": {},
   "source": [
    "## Step 2: Creating a Quantum Circuit\n",
    "\n",
    "- This initializes a **quantum circuit** (`qc`) with **2 qubits**.\n",
    "- Qubits are quantum bits that exist in a **superposition** of $|0\\rangle$ and $|1\\rangle$."
   ]
  },
  {
   "cell_type": "code",
   "execution_count": 18,
   "id": "a4b2d46a",
   "metadata": {
    "ExecuteTime": {
     "end_time": "2025-03-15T17:24:53.649977Z",
     "start_time": "2025-03-15T17:24:53.636462Z"
    }
   },
   "outputs": [],
   "source": [
    "qc = QuantumCircuit(2)"
   ]
  },
  {
   "cell_type": "markdown",
   "id": "a5a15852",
   "metadata": {},
   "source": [
    "Initially, both qubits are in the **ground state**:\n",
    "$$ |00\\rangle = |0\\rangle \\otimes |0\\rangle $$\n",
    "---\n",
    "\n",
    "## Step 3: Applying a Hadamard Gate to the First Qubit\n",
    "\n",
    "- This applies a **Hadamard gate (H)** to qubit 0.\n",
    "- The Hadamard gate creates **superposition**, transforming the qubit state from $|0\\rangle$ to an equal superposition of $|0\\rangle$ and $|1\\rangle$:\n",
    "\n",
    "$$\n",
    "H |0\\rangle = \\frac{1}{\\sqrt{2}}(|0\\rangle + |1\\rangle)\n",
    "$$\n",
    "\n",
    "Mathematically, the Hadamard matrix is:\n",
    "\n",
    "$$\n",
    "H = \\frac{1}{\\sqrt{2}}\n",
    "\\begin{bmatrix}\n",
    "1 & 1 \\\\\n",
    "1 & -1\n",
    "\\end{bmatrix}\n",
    "$$\n",
    "\n",
    "Applying this to $|0\\rangle$:\n",
    "\n",
    "$$\n",
    "H |0\\rangle = \\frac{1}{\\sqrt{2}} \\left( |0\\rangle + |1\\rangle \\right)\n",
    "$$\n",
    "\n",
    "Now, the quantum state of the system is:\n",
    "\n",
    "$$\n",
    "\\frac{1}{\\sqrt{2}} (|0\\rangle + |1\\rangle) \\otimes |0\\rangle = \\frac{1}{\\sqrt{2}} (|00\\rangle + |10\\rangle)\n",
    "$$\n",
    "\n",
    "---"
   ]
  },
  {
   "cell_type": "code",
   "execution_count": 19,
   "id": "f1e375d3",
   "metadata": {
    "ExecuteTime": {
     "end_time": "2025-03-15T17:24:53.666000Z",
     "start_time": "2025-03-15T17:24:53.651979Z"
    }
   },
   "outputs": [
    {
     "data": {
      "text/plain": [
       "<qiskit.circuit.instructionset.InstructionSet at 0x1b34b76fe50>"
      ]
     },
     "execution_count": 19,
     "metadata": {},
     "output_type": "execute_result"
    },
    {
     "data": {
      "text/plain": [
       "<qiskit.circuit.instructionset.InstructionSet at 0x1b34b76fe50>"
      ]
     },
     "execution_count": 19,
     "metadata": {},
     "output_type": "execute_result"
    }
   ],
   "source": [
    "qc.h(0)"
   ]
  },
  {
   "cell_type": "markdown",
   "id": "13c194c9",
   "metadata": {},
   "source": [
    "## Step 4: Applying a CNOT Gate\n",
    "\n",
    "- The **CNOT (Controlled-NOT) gate** is a **two-qubit** gate.\n",
    "- It **flips the target qubit (qubit 1)** if the **control qubit (qubit 0)** is in state **$|1\\rangle$**.\n",
    "\n",
    "The CNOT matrix is:\n",
    "\n",
    "$$\n",
    "CNOT =\n",
    "\\begin{bmatrix}\n",
    "1 & 0 & 0 & 0 \\\\\n",
    "0 & 1 & 0 & 0 \\\\\n",
    "0 & 0 & 0 & 1 \\\\\n",
    "0 & 0 & 1 & 0\n",
    "\\end{bmatrix}\n",
    "$$\n",
    "\n",
    "Applying it to our superposition state:\n",
    "\n",
    "$$\n",
    "CNOT \\left( \\frac{1}{\\sqrt{2}} (|00\\rangle + |10\\rangle) \\right)\n",
    "$$\n",
    "\n",
    "- If **qubit 0 is $|0\\rangle$**, qubit 1 remains unchanged.\n",
    "- If **qubit 0 is $|1\\rangle$**, qubit 1 flips.\n",
    "\n",
    "So, the state **after applying the CNOT gate** is:\n",
    "\n",
    "$$\n",
    "\\frac{1}{\\sqrt{2}} (|00\\rangle + |11\\rangle)\n",
    "$$\n",
    "\n",
    "This is called a **Bell state**, which is an **entangled state**. It means that **measuring one qubit automatically determines the other**.\n",
    "\n",
    "---"
   ]
  },
  {
   "cell_type": "code",
   "execution_count": 20,
   "id": "01bbf1e6",
   "metadata": {
    "ExecuteTime": {
     "end_time": "2025-03-15T17:24:53.681648Z",
     "start_time": "2025-03-15T17:24:53.668004Z"
    }
   },
   "outputs": [
    {
     "data": {
      "text/plain": [
       "<qiskit.circuit.instructionset.InstructionSet at 0x1b34b76fa90>"
      ]
     },
     "execution_count": 20,
     "metadata": {},
     "output_type": "execute_result"
    },
    {
     "data": {
      "text/plain": [
       "<qiskit.circuit.instructionset.InstructionSet at 0x1b34b76fa90>"
      ]
     },
     "execution_count": 20,
     "metadata": {},
     "output_type": "execute_result"
    }
   ],
   "source": [
    "qc.cx(0, 1)"
   ]
  },
  {
   "cell_type": "markdown",
   "id": "8ff5a49b",
   "metadata": {},
   "source": [
    "## Step 5: Measuring the Qubits\n",
    "\n",
    "- This measures **both qubits**.\n",
    "- Measurement collapses the quantum state into a **classical bit string** (either `00` or `11`).\n",
    "\n",
    "Since we are in the **Bell state**:\n",
    "\n",
    "$$\n",
    "\\frac{1}{\\sqrt{2}} (|00\\rangle + |11\\rangle)\n",
    "$$\n",
    "\n",
    "- We get `00` **50% of the time**.\n",
    "- We get `11` **50% of the time**.\n",
    "- We **never** get `01` or `10`, because the qubits are **entangled**.\n",
    "\n",
    "---"
   ]
  },
  {
   "cell_type": "code",
   "execution_count": 21,
   "id": "381d20aa",
   "metadata": {
    "ExecuteTime": {
     "end_time": "2025-03-15T17:24:53.697478Z",
     "start_time": "2025-03-15T17:24:53.682889Z"
    }
   },
   "outputs": [],
   "source": [
    "qc.measure_all()"
   ]
  },
  {
   "cell_type": "markdown",
   "id": "3b1e4e16",
   "metadata": {},
   "source": [
    "## Step 6: Simulating the Quantum Circuit\n",
    "\n",
    "- `AerSimulator()` is a **classical quantum simulator**.\n",
    "- It **mimics quantum hardware** on a classical computer.\n"
   ]
  },
  {
   "cell_type": "code",
   "execution_count": 22,
   "id": "102c72bf",
   "metadata": {
    "ExecuteTime": {
     "end_time": "2025-03-15T17:24:53.713584Z",
     "start_time": "2025-03-15T17:24:53.698476Z"
    }
   },
   "outputs": [],
   "source": [
    "simulator = AerSimulator()"
   ]
  },
  {
   "cell_type": "markdown",
   "id": "37a1824b",
   "metadata": {},
   "source": [
    "- `transpile()` **optimizes the quantum circuit** for a given backend (here, the simulator).\n",
    "- This is necessary to match the circuit with the simulator’s capabilities."
   ]
  },
  {
   "cell_type": "code",
   "execution_count": 23,
   "id": "476ef122",
   "metadata": {
    "ExecuteTime": {
     "end_time": "2025-03-15T17:24:53.791814Z",
     "start_time": "2025-03-15T17:24:53.714582Z"
    }
   },
   "outputs": [],
   "source": [
    "compiled_circuit = transpile(qc, simulator)"
   ]
  },
  {
   "cell_type": "markdown",
   "id": "56092448",
   "metadata": {},
   "source": [
    "## Step 7: Retrieving Measurement Results\n",
    "\n",
    "- This returns a dictionary of results\n",
    "- This confirms that **50% of the time we measure `00` and 50% of the time we measure `11`**.\n",
    "- No occurrences of `01` or `10` (as expected in an entangled system).\n",
    "- The circuit is **executed 1000 times** (`shots=1000`).\n",
    "- The output consists of **measurement counts**, which represent how often each state appears."
   ]
  },
  {
   "cell_type": "code",
   "execution_count": 24,
   "id": "d1745dd4",
   "metadata": {
    "ExecuteTime": {
     "end_time": "2025-03-15T17:24:53.807196Z",
     "start_time": "2025-03-15T17:24:53.792548Z"
    }
   },
   "outputs": [],
   "source": [
    "sim_result = simulator.run(compiled_circuit, shots=1000).result()"
   ]
  },
  {
   "cell_type": "markdown",
   "id": "04cd809d",
   "metadata": {},
   "source": [
    "## Step 8: Returning the Results\n",
    "\n",
    "- This function **returns**:\n",
    "  1. **counts**: The number of times each measurement result occurred.\n",
    "  2. **qc**: The quantum circuit itself.\n"
   ]
  },
  {
   "cell_type": "code",
   "execution_count": 25,
   "id": "e32f9bd2",
   "metadata": {
    "ExecuteTime": {
     "end_time": "2025-03-15T17:24:53.822821Z",
     "start_time": "2025-03-15T17:24:53.808197Z"
    }
   },
   "outputs": [
    {
     "data": {
      "text/plain": [
       "{'00': 514, '11': 486}"
      ]
     },
     "execution_count": 25,
     "metadata": {},
     "output_type": "execute_result"
    },
    {
     "data": {
      "text/plain": [
       "{'00': 514, '11': 486}"
      ]
     },
     "execution_count": 25,
     "metadata": {},
     "output_type": "execute_result"
    }
   ],
   "source": [
    "counts = sim_result.get_counts()\n",
    "counts"
   ]
  },
  {
   "cell_type": "code",
   "execution_count": 26,
   "id": "931ac33e",
   "metadata": {
    "ExecuteTime": {
     "end_time": "2025-03-15T17:24:53.837973Z",
     "start_time": "2025-03-15T17:24:53.824325Z"
    }
   },
   "outputs": [
    {
     "name": "stdout",
     "output_type": "stream",
     "text": [
      "        ┌───┐      ░ ┌─┐   \n",
      "   q_0: ┤ H ├──■───░─┤M├───\n",
      "        └───┘┌─┴─┐ ░ └╥┘┌─┐\n",
      "   q_1: ─────┤ X ├─░──╫─┤M├\n",
      "             └───┘ ░  ║ └╥┘\n",
      "meas: 2/══════════════╩══╩═\n",
      "                      0  1 \n",
      "        ┌───┐      ░ ┌─┐   \n",
      "   q_0: ┤ H ├──■───░─┤M├───\n",
      "        └───┘┌─┴─┐ ░ └╥┘┌─┐\n",
      "   q_1: ─────┤ X ├─░──╫─┤M├\n",
      "             └───┘ ░  ║ └╥┘\n",
      "meas: 2/══════════════╩══╩═\n",
      "                      0  1 \n"
     ]
    }
   ],
   "source": [
    "print(qc)"
   ]
  },
  {
   "cell_type": "markdown",
   "id": "93136424",
   "metadata": {
    "ExecuteTime": {
     "end_time": "2025-02-28T01:05:54.916098Z",
     "start_time": "2025-02-28T01:05:54.907098Z"
    }
   },
   "source": [
    "# Mathematical Explanation in Quantum Computing Context\n",
    "\n",
    "Let's summarize the quantum states at each step:\n",
    "\n",
    "1. **Initial state**: $|00\\rangle$\n",
    "\n",
    "2. **After Hadamard on Qubit 0**:  \n",
    "   $$ H |0\\rangle = \\frac{1}{\\sqrt{2}} (|0\\rangle + |1\\rangle) $$\n",
    "   $$ \\frac{1}{\\sqrt{2}} (|00\\rangle + |10\\rangle) $$\n",
    "\n",
    "3. **After CNOT (Qubit 0 = Control, Qubit 1 = Target)**:  \n",
    "   - If qubit 0 is `0`, qubit 1 remains `0`.\n",
    "   - If qubit 0 is `1`, qubit 1 flips to `1`.\n",
    "\n",
    "   Final state (Bell state):\n",
    "   $$ \\frac{1}{\\sqrt{2}} (|00\\rangle + |11\\rangle) $$\n",
    "\n",
    "4. **After Measurement**:  \n",
    "   - **50% probability of measuring `00`**\n",
    "   - **50% probability of measuring `11`**\n",
    "   - **No chance of `01` or `10` due to entanglement**.\n",
    "\n",
    "---\n",
    "\n",
    "## Summary of Key Concepts\n",
    "\n",
    "1. **Superposition**:  \n",
    "   - The Hadamard gate creates a **superposition** of $|0\\rangle$ and $|1\\rangle$.\n",
    "\n",
    "2. **Entanglement**:  \n",
    "   - The CNOT gate creates an **entangled Bell state**.\n",
    "\n",
    "3. **Measurement Collapse**:  \n",
    "   - Measurement collapses the quantum state to either `00` or `11` with equal probability.\n",
    "\n",
    "4. **Quantum Parallelism**:  \n",
    "   - The quantum state contains **both** possibilities at once until measured."
   ]
  }
 ],
 "metadata": {
  "hide_input": false,
  "kernelspec": {
   "display_name": "Python 3 (ipykernel)",
   "language": "python",
   "name": "python3"
  },
  "language_info": {
   "codemirror_mode": {
    "name": "ipython",
    "version": 3
   },
   "file_extension": ".py",
   "mimetype": "text/x-python",
   "name": "python",
   "nbconvert_exporter": "python",
   "pygments_lexer": "ipython3",
   "version": "3.9.13"
  },
  "toc": {
   "base_numbering": 1,
   "nav_menu": {},
   "number_sections": true,
   "sideBar": true,
   "skip_h1_title": false,
   "title_cell": "Table of Contents",
   "title_sidebar": "Contents",
   "toc_cell": false,
   "toc_position": {},
   "toc_section_display": true,
   "toc_window_display": false
  },
  "varInspector": {
   "cols": {
    "lenName": 16,
    "lenType": 16,
    "lenVar": 40
   },
   "kernels_config": {
    "python": {
     "delete_cmd_postfix": "",
     "delete_cmd_prefix": "del ",
     "library": "var_list.py",
     "varRefreshCmd": "print(var_dic_list())"
    },
    "r": {
     "delete_cmd_postfix": ") ",
     "delete_cmd_prefix": "rm(",
     "library": "var_list.r",
     "varRefreshCmd": "cat(var_dic_list()) "
    }
   },
   "types_to_exclude": [
    "module",
    "function",
    "builtin_function_or_method",
    "instance",
    "_Feature"
   ],
   "window_display": false
  }
 },
 "nbformat": 4,
 "nbformat_minor": 5
}
